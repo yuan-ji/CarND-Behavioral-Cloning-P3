{
 "cells": [
  {
   "cell_type": "code",
   "execution_count": 1,
   "metadata": {},
   "outputs": [
    {
     "name": "stderr",
     "output_type": "stream",
     "text": [
      "Using TensorFlow backend.\n"
     ]
    },
    {
     "name": "stdout",
     "output_type": "stream",
     "text": [
      "Epoch 1/4\n",
      "12624/12624 [==============================] - 36s - loss: 0.0352 - val_loss: 0.0324\n",
      "Epoch 2/4\n",
      "12624/12624 [==============================] - 32s - loss: 0.0319 - val_loss: 0.0296\n",
      "Epoch 3/4\n",
      "12624/12624 [==============================] - 32s - loss: 0.0312 - val_loss: 0.0304\n",
      "Epoch 4/4\n",
      "12624/12624 [==============================] - 32s - loss: 0.0309 - val_loss: 0.0292\n",
      "dict_keys(['loss', 'val_loss'])\n"
     ]
    },
    {
     "data": {
      "image/png": "[encoded data removed]",
      "text/plain": [
       "<matplotlib.figure.Figure at 0x7f8646a84278>"
      ]
     },
     "metadata": {},
     "output_type": "display_data"
    }
   ],
   "source": [
    "import csv\n",
    "import cv2\n",
    "import numpy as np\n",
    "import matplotlib.pyplot as plt\n",
    "import sklearn\n",
    "import os\n",
    "%matplotlib inline\n",
    "\n",
    "samples = []\n",
    "with open('./data/driving_log.csv') as csvfile:\n",
    "    reader = csv.reader(csvfile)\n",
    "    for row in reader:\n",
    "        samples.append(row)\n",
    "\n",
    "from sklearn.model_selection import train_test_split\n",
    "train_samples, validation_samples = train_test_split(samples, test_size=0.2)\n",
    "\n",
    "\n",
    "CORRECTION = 0.2\n",
    "                \n",
    "def generator(samples, batch_size=32):\n",
    "    num_samples = len(samples)\n",
    "    while 1: # Loop forever so the generator never terminates\n",
    "        sklearn.utils.shuffle(samples)\n",
    "        for offset in range(0, num_samples, batch_size):\n",
    "            batch_samples = samples[offset:offset+batch_size]\n",
    "\n",
    "            images = []\n",
    "            measurements = []\n",
    "            for batch_sample in batch_samples:\n",
    "                # Use 3 cameras\n",
    "                measurement = float(batch_sample[3])\n",
    "                measurement_left = measurement + CORRECTION\n",
    "                measurement_right = measurement - CORRECTION\n",
    "                \n",
    "                for i in range(3):\n",
    "                    name = './data/IMG/'+batch_sample[0].split('\\\\')[-1]\n",
    "                    center_image = cv2.imread(name)\n",
    "                    center_image = cv2.cvtColor(center_image, cv2.COLOR_BGR2RGB)\n",
    "#                     measurements = float(batch_sample[3])\n",
    "                    images.append(center_image)\n",
    "#                     angles.append(center_angle)\n",
    "\n",
    "                    #flipping\n",
    "                    images.append(cv2.flip(center_image,1))\n",
    "#                     measurements.append(center_angle*-0.1)\n",
    "                    \n",
    "                measurements.extend([measurement,\n",
    "                     measurement*-1,\n",
    "                     measurement_left,\n",
    "                     measurement_left*-1,\n",
    "                     measurement_right,\n",
    "                     measurement_right*-1])\n",
    "\n",
    "            # trim image to only see section with road\n",
    "            X_train = np.array(images)\n",
    "            y_train = np.array(measurements)\n",
    "            yield sklearn.utils.shuffle(X_train, y_train)\n",
    "\n",
    "from keras.models import Sequential\n",
    "from keras.layers import Flatten, Dense, Lambda, Cropping2D,Convolution2D,Dropout\n",
    "from keras.layers import MaxPooling2D\n",
    "\n",
    "# compile and train the model using the generator function\n",
    "train_generator = generator(train_samples, batch_size=32)\n",
    "validation_generator = generator(validation_samples, batch_size=32)\n",
    "\n",
    "# ch, row, col = 3, 80, 320  # Trimmed image format\n",
    "\n",
    "model = Sequential()\n",
    "model.add(Lambda(lambda x: x /255.0 - 0.5,input_shape=(160, 320,3)))\n",
    "model.add(Cropping2D(cropping=((60,25),(0,0))))\n",
    "model.add(Convolution2D(24,5,5,subsample=(2, 2), activation = 'relu'))\n",
    "model.add(Dropout(0.2))\n",
    "model.add(Convolution2D(36,5,5,subsample=(2,2), activation = 'relu'))\n",
    "model.add(Dropout(0.2))\n",
    "model.add(Convolution2D(48,5,5,subsample=(2,2), activation = 'relu'))\n",
    "model.add(Dropout(0.2))\n",
    "model.add(Convolution2D(64,3,3,activation = 'relu'))\n",
    "model.add(Dropout(0.2))\n",
    "model.add(Convolution2D(64,3,3,activation = 'relu'))\n",
    "model.add(Dropout(0.2))\n",
    "\n",
    "\n",
    "model.add(Flatten())\n",
    "model.add(Dense(100))\n",
    "model.add(Dropout(0.5))\n",
    "model.add(Dense(50))\n",
    "model.add(Dropout(0.5))\n",
    "model.add(Dense(10))\n",
    "model.add(Dense(1))\n",
    "\n",
    "\n",
    "\n",
    "model.compile(loss = 'mse', optimizer = 'adam')\n",
    "\n",
    "# model.fit(X_train,y_train,validation_split=0.2,shuffle=True,nb_epoch=1)\n",
    "\n",
    "history_object = model.fit_generator(train_generator, samples_per_epoch =\n",
    "    len(train_samples)*6, validation_data = \n",
    "    validation_generator,\n",
    "    nb_val_samples = len(validation_samples), \n",
    "    nb_epoch=4, verbose=1)\n",
    "\n",
    "\"\"\"\n",
    "If the above code throw exceptions, try \n",
    "model.fit_generator(train_generator, steps_per_epoch= len(train_samples),\n",
    "validation_data=validation_generator, validation_steps=len(validation_samples), epochs=5, verbose = 1)\n",
    "\"\"\"\n",
    "\n",
    "\n",
    "### print the keys contained in the history object\n",
    "print(history_object.history.keys())\n",
    "\n",
    "### plot the training and validation loss for each epoch\n",
    "plt.plot(history_object.history['loss'])\n",
    "plt.plot(history_object.history['val_loss'])\n",
    "plt.title('model mean squared error loss')\n",
    "plt.ylabel('mean squared error loss')\n",
    "plt.xlabel('epoch')\n",
    "plt.legend(['training set', 'validation set'], loc='upper right')\n",
    "plt.show()\n",
    "\n",
    "model.save('model.h5')"
   ]
  },
  {
   "cell_type": "code",
   "execution_count": 2,
   "metadata": {},
   "outputs": [
    {
     "name": "stdout",
     "output_type": "stream",
     "text": [
      "1.2.1\n"
     ]
    }
   ],
   "source": [
    "import keras\n",
    "print (keras.__version__)  "
   ]
  },
  {
   "cell_type": "code",
   "execution_count": null,
   "metadata": {
    "collapsed": true
   },
   "outputs": [],
   "source": []
  }
 ],
 "metadata": {
  "anaconda-cloud": {},
  "kernelspec": {
   "display_name": "Python 3",
   "language": "python",
   "name": "python3"
  },
  "language_info": {
   "codemirror_mode": {
    "name": "ipython",
    "version": 3
   },
   "file_extension": ".py",
   "mimetype": "text/x-python",
   "name": "python",
   "nbconvert_exporter": "python",
   "pygments_lexer": "ipython3",
   "version": "3.5.2"
  },
  "widgets": {
   "state": {},
   "version": "1.1.2"
  }
 },
 "nbformat": 4,
 "nbformat_minor": 1
}
